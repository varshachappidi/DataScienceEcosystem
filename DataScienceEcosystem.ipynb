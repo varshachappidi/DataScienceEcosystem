{
 "cells": [
  {
   "cell_type": "markdown",
   "id": "f38a070a-682d-42a2-b71d-8dd04e210f2d",
   "metadata": {},
   "source": [
    "# Data Science Tools and Ecosyatem"
   ]
  },
  {
   "cell_type": "markdown",
   "id": "369f8a32-ba07-4e40-8239-99d890c8f502",
   "metadata": {},
   "source": [
    "In this notebook, Data Science Tools and Ecosystem are summarized."
   ]
  },
  {
   "cell_type": "markdown",
   "id": "6d799044-9893-4150-a4de-57f9d69a4723",
   "metadata": {
    "tags": []
   },
   "source": [
    "Some of the popular languages that Data Scientists use are:"
   ]
  },
  {
   "cell_type": "markdown",
   "id": "f0b2f9bd-9802-489d-88b1-f86df67af2c7",
   "metadata": {},
   "source": [
    "1. Python\n",
    "2. R\n",
    "3. SQL\n",
    "4. Java\n",
    "5. Scala\n",
    "6. Julia\n",
    "\n"
   ]
  },
  {
   "cell_type": "markdown",
   "id": "15868543-c06a-48cc-9c5d-5d209d1dc52d",
   "metadata": {},
   "source": [
    "Some of the commonly used libraries used by Data Scientists include:"
   ]
  },
  {
   "cell_type": "markdown",
   "id": "96c016cb-4069-41c3-bf93-81952e33ca2a",
   "metadata": {},
   "source": [
    "1. Tensor Flow\n",
    "2. Pandas\n",
    "3. NumPy\n",
    "4. Scikit_learn\n",
    "5. Matplotlib"
   ]
  },
  {
   "cell_type": "markdown",
   "id": "a3ecad4a-769c-4fd2-9b6b-535521cbb2e4",
   "metadata": {},
   "source": [
    "  | Data Science Tools |\n",
    "| -------------|\n",
    "| MySQL | \n",
    "| Apache AirFlow | \n",
    "| Kibana | \n",
    "| Tableau |\n",
    "| Informatica |\n",
    "| Git |"
   ]
  },
  {
   "cell_type": "markdown",
   "id": "efeaba97-1d10-4628-ac1c-b6bd4c9a9e6c",
   "metadata": {},
   "source": [
    "### This is a level 3 Heading"
   ]
  },
  {
   "cell_type": "markdown",
   "id": "82d2519a-502c-4493-a328-1a902a293ef9",
   "metadata": {},
   "source": [
    "This a simple arithmetic expression to mutiply then add integers."
   ]
  },
  {
   "cell_type": "code",
   "execution_count": 1,
   "id": "198830ab-14aa-4ec1-8c16-8f4c1d40429a",
   "metadata": {
    "tags": []
   },
   "outputs": [
    {
     "data": {
      "text/plain": [
       "17"
      ]
     },
     "execution_count": 1,
     "metadata": {},
     "output_type": "execute_result"
    }
   ],
   "source": [
    "(3*4)+5"
   ]
  },
  {
   "cell_type": "markdown",
   "id": "537e0e67-0c54-47c2-8381-2456ba9f80bf",
   "metadata": {},
   "source": [
    "**Objectives:**"
   ]
  },
  {
   "cell_type": "markdown",
   "id": "3d5e1a2c-b185-45c9-b32a-5043bc1dbc1b",
   "metadata": {},
   "source": [
    "- List popular languages for Data Science\n",
    "- List popular languages for Data Libraries\n",
    "- List popular languages for Data Tools\n",
    "- Simple arithmetic expressions in Python"
   ]
  },
  {
   "cell_type": "markdown",
   "id": "448d29bf-d16e-42c7-92fb-53d644438502",
   "metadata": {},
   "source": [
    "## Author\n",
    "\n",
    "Varsha Chappidi"
   ]
  }
 ],
 "metadata": {
  "kernelspec": {
   "display_name": "Python",
   "language": "python",
   "name": "conda-env-python-py"
  },
  "language_info": {
   "codemirror_mode": {
    "name": "ipython",
    "version": 3
   },
   "file_extension": ".py",
   "mimetype": "text/x-python",
   "name": "python",
   "nbconvert_exporter": "python",
   "pygments_lexer": "ipython3",
   "version": "3.7.12"
  }
 },
 "nbformat": 4,
 "nbformat_minor": 5
}
